{
 "cells": [
  {
   "cell_type": "code",
   "execution_count": 1,
   "outputs": [],
   "source": [
    "import pandas as pd\n",
    "import tensorflow as tf"
   ],
   "metadata": {
    "collapsed": false
   }
  },
  {
   "cell_type": "code",
   "execution_count": 2,
   "outputs": [],
   "source": [
    "TEST = r'C:\\Users\\arish\\open-source\\psi-detection\\data\\intermediate\\H.sapiens100\\test.csv'\n",
    "TRAIN = r'C:\\Users\\arish\\open-source\\psi-detection\\data\\intermediate\\H.sapiens100\\train.csv'\n",
    "VALID = r'C:\\Users\\arish\\open-source\\psi-detection\\data\\intermediate\\H.sapiens100\\valid.csv'"
   ],
   "metadata": {
    "collapsed": false
   }
  },
  {
   "cell_type": "code",
   "execution_count": 3,
   "outputs": [],
   "source": [
    "def space_sequence(dataframe: pd.DataFrame):\n",
    "    dataframe['x'] = dataframe['x'].map(list).map(lambda x: ' '.join(x))\n",
    "\n",
    "\n",
    "def split_dataframe(dataframe: pd.DataFrame):\n",
    "    return dataframe['x'].values, dataframe['y'].values"
   ],
   "metadata": {
    "collapsed": false
   }
  },
  {
   "cell_type": "code",
   "execution_count": 4,
   "outputs": [],
   "source": [
    "train_data = pd.read_csv(TRAIN, header=None)\n",
    "train_data.columns = ['x', 'y']\n",
    "space_sequence(train_data)\n",
    "\n",
    "valid_data = pd.read_csv(VALID, header=None)\n",
    "valid_data.columns = ['x', 'y']\n",
    "space_sequence(valid_data)\n",
    "\n",
    "test_data = pd.read_csv(TEST, header=None)\n",
    "test_data.columns = ['x', 'y']\n",
    "space_sequence(test_data)\n",
    "\n",
    "test_data = split_dataframe(test_data)\n",
    "train_data = split_dataframe(train_data)\n",
    "valid_data = split_dataframe(valid_data)"
   ],
   "metadata": {
    "collapsed": false
   }
  },
  {
   "cell_type": "code",
   "execution_count": 5,
   "outputs": [],
   "source": [
    "VOCAB_SIZE = 4 + 2\n",
    "BATCH_SIZE = 64"
   ],
   "metadata": {
    "collapsed": false
   }
  },
  {
   "cell_type": "code",
   "execution_count": 6,
   "outputs": [],
   "source": [
    "encoder = tf.keras.layers.TextVectorization(max_tokens=VOCAB_SIZE)\n",
    "encoder.adapt(train_data[0])"
   ],
   "metadata": {
    "collapsed": false
   }
  },
  {
   "cell_type": "code",
   "execution_count": 7,
   "outputs": [],
   "source": [
    "model = tf.keras.Sequential([\n",
    "    encoder,\n",
    "    tf.keras.layers.Embedding(\n",
    "        input_dim=VOCAB_SIZE,\n",
    "        output_dim=64,\n",
    "        mask_zero=False,\n",
    "    ),\n",
    "    tf.keras.layers.Bidirectional(tf.keras.layers.LSTM(64)),\n",
    "    tf.keras.layers.Dense(64, activation='relu'),\n",
    "    tf.keras.layers.Dense(1, activation='sigmoid')\n",
    "])"
   ],
   "metadata": {
    "collapsed": false
   }
  },
  {
   "cell_type": "code",
   "execution_count": 8,
   "outputs": [
    {
     "name": "stdout",
     "output_type": "stream",
     "text": [
      "4/4 [==============================] - 1s 5ms/step\n"
     ]
    },
    {
     "data": {
      "text/plain": "array([[0.5022587 ],\n       [0.50148463],\n       [0.5049629 ],\n       [0.5006771 ],\n       [0.49740225],\n       [0.5021709 ],\n       [0.499029  ],\n       [0.50154394],\n       [0.5015252 ],\n       [0.49781778],\n       [0.50269365],\n       [0.5012591 ],\n       [0.50188583],\n       [0.50696945],\n       [0.50123805],\n       [0.5004994 ],\n       [0.498763  ],\n       [0.50169957],\n       [0.49779043],\n       [0.50321484],\n       [0.50265175],\n       [0.5000616 ],\n       [0.49990287],\n       [0.49898672],\n       [0.50233585],\n       [0.500886  ],\n       [0.4996154 ],\n       [0.5020137 ],\n       [0.5004367 ],\n       [0.5010431 ],\n       [0.49989754],\n       [0.5022587 ],\n       [0.50208914],\n       [0.49855545],\n       [0.5001106 ],\n       [0.49784574],\n       [0.5022587 ],\n       [0.50075424],\n       [0.5000743 ],\n       [0.4996132 ],\n       [0.5025047 ],\n       [0.498355  ],\n       [0.50248265],\n       [0.5018682 ],\n       [0.5005397 ],\n       [0.4988408 ],\n       [0.49797627],\n       [0.5021581 ],\n       [0.4968823 ],\n       [0.50090855],\n       [0.5019834 ],\n       [0.49801126],\n       [0.49786404],\n       [0.5005608 ],\n       [0.5009663 ],\n       [0.50030446],\n       [0.4985065 ],\n       [0.501494  ],\n       [0.5018137 ],\n       [0.49986243],\n       [0.50107425],\n       [0.49972185],\n       [0.49851722],\n       [0.50432736],\n       [0.5024014 ],\n       [0.50197715],\n       [0.5022587 ],\n       [0.49810895],\n       [0.5009188 ],\n       [0.50270855],\n       [0.49987638],\n       [0.5020556 ],\n       [0.5021335 ],\n       [0.50059074],\n       [0.49896628],\n       [0.49897888],\n       [0.5018947 ],\n       [0.50496095],\n       [0.4997252 ],\n       [0.5022071 ],\n       [0.5015682 ],\n       [0.4973256 ],\n       [0.5000819 ],\n       [0.49812353],\n       [0.50285244],\n       [0.49984112],\n       [0.49978775],\n       [0.50234437],\n       [0.5038215 ],\n       [0.4985575 ],\n       [0.49974465],\n       [0.5016041 ],\n       [0.502678  ],\n       [0.49598262],\n       [0.50305897],\n       [0.5051948 ],\n       [0.49996787],\n       [0.50405836],\n       [0.49829736],\n       [0.4999763 ],\n       [0.5003123 ],\n       [0.50100434],\n       [0.4982023 ],\n       [0.49972934],\n       [0.49968737],\n       [0.4988264 ],\n       [0.49923998],\n       [0.5001898 ],\n       [0.5006771 ],\n       [0.49753004],\n       [0.5020256 ],\n       [0.50263315],\n       [0.5015694 ],\n       [0.49875033],\n       [0.49781254],\n       [0.5029091 ],\n       [0.5001881 ],\n       [0.49744388],\n       [0.5028418 ],\n       [0.50038886],\n       [0.49869263],\n       [0.50137407],\n       [0.50152403],\n       [0.49874705],\n       [0.50059277],\n       [0.49852735]], dtype=float32)"
     },
     "execution_count": 8,
     "metadata": {},
     "output_type": "execute_result"
    }
   ],
   "source": [
    "model.predict(train_data[0])"
   ],
   "metadata": {
    "collapsed": false
   }
  },
  {
   "cell_type": "code",
   "execution_count": 9,
   "outputs": [],
   "source": [
    "model.compile(\n",
    "    loss=tf.keras.losses.MSE,\n",
    "    optimizer='adam',\n",
    "    metrics=['accuracy']\n",
    ")"
   ],
   "metadata": {
    "collapsed": false
   }
  },
  {
   "cell_type": "code",
   "execution_count": 10,
   "outputs": [],
   "source": [
    "model.reset_states()"
   ],
   "metadata": {
    "collapsed": false
   }
  },
  {
   "cell_type": "code",
   "execution_count": 21,
   "outputs": [
    {
     "name": "stdout",
     "output_type": "stream",
     "text": [
      "Epoch 1/20\n",
      "4/4 [==============================] - 0s 36ms/step - loss: 0.0099 - accuracy: 1.0000 - val_loss: 0.1499 - val_accuracy: 0.7857\n",
      "Epoch 2/20\n",
      "4/4 [==============================] - 0s 23ms/step - loss: 0.0102 - accuracy: 1.0000 - val_loss: 0.1491 - val_accuracy: 0.7857\n",
      "Epoch 3/20\n",
      "4/4 [==============================] - 0s 26ms/step - loss: 0.0083 - accuracy: 1.0000 - val_loss: 0.1340 - val_accuracy: 0.8571\n",
      "Epoch 4/20\n",
      "4/4 [==============================] - 0s 24ms/step - loss: 0.0065 - accuracy: 1.0000 - val_loss: 0.1333 - val_accuracy: 0.8571\n",
      "Epoch 5/20\n",
      "4/4 [==============================] - 0s 23ms/step - loss: 0.0057 - accuracy: 1.0000 - val_loss: 0.1378 - val_accuracy: 0.8571\n",
      "Epoch 6/20\n",
      "4/4 [==============================] - 0s 24ms/step - loss: 0.0048 - accuracy: 1.0000 - val_loss: 0.1486 - val_accuracy: 0.8571\n",
      "Epoch 7/20\n",
      "4/4 [==============================] - 0s 25ms/step - loss: 0.0041 - accuracy: 1.0000 - val_loss: 0.1573 - val_accuracy: 0.7857\n",
      "Epoch 8/20\n",
      "4/4 [==============================] - 0s 23ms/step - loss: 0.0037 - accuracy: 1.0000 - val_loss: 0.1620 - val_accuracy: 0.7857\n",
      "Epoch 9/20\n",
      "4/4 [==============================] - 0s 23ms/step - loss: 0.0031 - accuracy: 1.0000 - val_loss: 0.1658 - val_accuracy: 0.7857\n",
      "Epoch 10/20\n",
      "4/4 [==============================] - 0s 23ms/step - loss: 0.0028 - accuracy: 1.0000 - val_loss: 0.1665 - val_accuracy: 0.7857\n",
      "Epoch 11/20\n",
      "4/4 [==============================] - 0s 23ms/step - loss: 0.0025 - accuracy: 1.0000 - val_loss: 0.1678 - val_accuracy: 0.7143\n",
      "Epoch 12/20\n",
      "4/4 [==============================] - 0s 23ms/step - loss: 0.0022 - accuracy: 1.0000 - val_loss: 0.1670 - val_accuracy: 0.7143\n",
      "Epoch 13/20\n",
      "4/4 [==============================] - 0s 23ms/step - loss: 0.0020 - accuracy: 1.0000 - val_loss: 0.1669 - val_accuracy: 0.7143\n",
      "Epoch 14/20\n",
      "4/4 [==============================] - 0s 23ms/step - loss: 0.0019 - accuracy: 1.0000 - val_loss: 0.1664 - val_accuracy: 0.7143\n",
      "Epoch 15/20\n",
      "4/4 [==============================] - 0s 23ms/step - loss: 0.0017 - accuracy: 1.0000 - val_loss: 0.1684 - val_accuracy: 0.7143\n",
      "Epoch 16/20\n",
      "4/4 [==============================] - 0s 23ms/step - loss: 0.0015 - accuracy: 1.0000 - val_loss: 0.1688 - val_accuracy: 0.7143\n",
      "Epoch 17/20\n",
      "4/4 [==============================] - 0s 23ms/step - loss: 0.0014 - accuracy: 1.0000 - val_loss: 0.1691 - val_accuracy: 0.7143\n",
      "Epoch 18/20\n",
      "4/4 [==============================] - 0s 24ms/step - loss: 0.0013 - accuracy: 1.0000 - val_loss: 0.1697 - val_accuracy: 0.7143\n",
      "Epoch 19/20\n",
      "4/4 [==============================] - 0s 23ms/step - loss: 0.0012 - accuracy: 1.0000 - val_loss: 0.1695 - val_accuracy: 0.7143\n",
      "Epoch 20/20\n",
      "4/4 [==============================] - 0s 22ms/step - loss: 0.0011 - accuracy: 1.0000 - val_loss: 0.1704 - val_accuracy: 0.7143\n"
     ]
    },
    {
     "data": {
      "text/plain": "<keras.callbacks.History at 0x22eb94dc100>"
     },
     "execution_count": 21,
     "metadata": {},
     "output_type": "execute_result"
    }
   ],
   "source": [
    "model.fit(\n",
    "    train_data[0],\n",
    "    train_data[1],\n",
    "    epochs=20,\n",
    "    validation_data=valid_data\n",
    ")"
   ],
   "metadata": {
    "collapsed": false
   }
  },
  {
   "cell_type": "code",
   "execution_count": 22,
   "outputs": [
    {
     "name": "stdout",
     "output_type": "stream",
     "text": [
      "2/2 [==============================] - 0s 7ms/step - loss: 0.2982 - accuracy: 0.6167\n"
     ]
    },
    {
     "data": {
      "text/plain": "[0.2981525659561157, 0.6166666746139526]"
     },
     "execution_count": 22,
     "metadata": {},
     "output_type": "execute_result"
    }
   ],
   "source": [
    "model.evaluate(test_data[0], test_data[1])"
   ],
   "metadata": {
    "collapsed": false
   }
  },
  {
   "cell_type": "code",
   "execution_count": null,
   "outputs": [],
   "source": [],
   "metadata": {
    "collapsed": false
   }
  }
 ],
 "metadata": {
  "kernelspec": {
   "display_name": "Python 3",
   "language": "python",
   "name": "python3"
  },
  "language_info": {
   "codemirror_mode": {
    "name": "ipython",
    "version": 2
   },
   "file_extension": ".py",
   "mimetype": "text/x-python",
   "name": "python",
   "nbconvert_exporter": "python",
   "pygments_lexer": "ipython2",
   "version": "2.7.6"
  }
 },
 "nbformat": 4,
 "nbformat_minor": 0
}
