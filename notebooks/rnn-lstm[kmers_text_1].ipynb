{
 "cells": [
  {
   "cell_type": "code",
   "execution_count": 20,
   "outputs": [],
   "source": [
    "import random\n",
    "import numpy as np\n",
    "import pandas as pd\n",
    "import tensorflow as tf\n",
    "\n",
    "import keras\n",
    "import keras.metrics\n",
    "\n",
    "from pathlib import Path"
   ],
   "metadata": {
    "collapsed": false
   }
  },
  {
   "cell_type": "code",
   "execution_count": 2,
   "metadata": {
    "collapsed": true
   },
   "outputs": [],
   "source": [
    "if 'google.colab' in str(get_ipython()):\n",
    "    DATA = {\n",
    "        'H.sapiens100': {\n",
    "            'kmer_text_1': {\n",
    "                'test': pd.read_csv(\n",
    "                    'https://firebasestorage.googleapis.com/v0/b/fir-83e23.appspot.com/o/H.sapiens100%2Fkmer_text_1%2Ftest.csv?alt=media&token=dcee3624-ee9a-461d-9cfc-0ed3b76326f5'),\n",
    "                'train': pd.read_csv(\n",
    "                    'https://firebasestorage.googleapis.com/v0/b/fir-83e23.appspot.com/o/H.sapiens100%2Fkmer_text_1%2Ftrain.csv?alt=media&token=4759decd-e792-452d-bd58-630ee2ed1618'),\n",
    "                'valid': pd.read_csv(\n",
    "                    'https://firebasestorage.googleapis.com/v0/b/fir-83e23.appspot.com/o/H.sapiens100%2Fkmer_text_1%2Fvalid.csv?alt=media&token=1ddd076e-95f0-48ba-ba9c-867c25ab8d1d')\n",
    "            },\n",
    "        },\n",
    "        'H.sapiens495': {\n",
    "            'kmer_text_1': {\n",
    "                'all': pd.read_csv(\n",
    "                    'https://firebasestorage.googleapis.com/v0/b/fir-83e23.appspot.com/o/H.sapiens495%2Fkmer_text_1%2Fall.csv?alt=media&token=f440e87c-2d38-47b8-9c09-3388fe2e0b57'),\n",
    "                'test': pd.read_csv(\n",
    "                    'https://firebasestorage.googleapis.com/v0/b/fir-83e23.appspot.com/o/H.sapiens495%2Fkmer_text_1%2Ftest.csv?alt=media&token=6c86bc92-ecf7-4bf5-8e68-3153f4a49211'),\n",
    "                'train': pd.read_csv(\n",
    "                    'https://firebasestorage.googleapis.com/v0/b/fir-83e23.appspot.com/o/H.sapiens495%2Fkmer_text_1%2Ftrain.csv?alt=media&token=ef7ac7a4-8b62-4a53-9977-38edfb3d6711'),\n",
    "                'valid': pd.read_csv(\n",
    "                    'https://firebasestorage.googleapis.com/v0/b/fir-83e23.appspot.com/o/H.sapiens495%2Fkmer_text_1%2Fvalid.csv?alt=media&token=5fdf4e0a-8773-43a4-a015-0fca33354592')\n",
    "            },\n",
    "        },\n",
    "        'M.musculus472': {\n",
    "            'kmer_text_1': {\n",
    "                'all': pd.read_csv(\n",
    "                    'https://firebasestorage.googleapis.com/v0/b/fir-83e23.appspot.com/o/M.musculus472%2Fkmer_text_1%2Fall.csv?alt=media&token=b44f939f-2676-4270-8218-878071ea98e9'),\n",
    "                'test': pd.read_csv(\n",
    "                    'https://firebasestorage.googleapis.com/v0/b/fir-83e23.appspot.com/o/M.musculus472%2Fkmer_text_1%2Ftest.csv?alt=media&token=3c4150ca-7d49-40f0-9ac4-587a0428b066'),\n",
    "                'train': pd.read_csv(\n",
    "                    'https://firebasestorage.googleapis.com/v0/b/fir-83e23.appspot.com/o/M.musculus472%2Fkmer_text_1%2Ftrain.csv?alt=media&token=4eef40fd-dd83-4804-895f-dbc63e3e9601'),\n",
    "                'valid': pd.read_csv(\n",
    "                    'https://firebasestorage.googleapis.com/v0/b/fir-83e23.appspot.com/o/M.musculus472%2Fkmer_text_1%2Fvalid.csv?alt=media&token=362a708f-3da2-4206-a5ae-c285e52e2024')\n",
    "            },\n",
    "        },\n",
    "        'S.cerevisiae100': {\n",
    "            'kmer_text_1': {\n",
    "                'test': pd.read_csv(\n",
    "                    'https://firebasestorage.googleapis.com/v0/b/fir-83e23.appspot.com/o/S.cerevisiae100%2Fkmer_text_1%2Ftest.csv?alt=media&token=d9a6625d-0315-473c-aea6-6419160e01d0'),\n",
    "                'train': pd.read_csv(\n",
    "                    'https://firebasestorage.googleapis.com/v0/b/fir-83e23.appspot.com/o/S.cerevisiae100%2Fkmer_text_1%2Ftrain.csv?alt=media&token=d77ad9d9-b413-4059-aed0-49621ef0718c'),\n",
    "                'valid': pd.read_csv(\n",
    "                    'https://firebasestorage.googleapis.com/v0/b/fir-83e23.appspot.com/o/S.cerevisiae100%2Fkmer_text_1%2Fvalid.csv?alt=media&token=cc85fac0-b941-44e4-99e7-619185aee6d6')\n",
    "            },\n",
    "        },\n",
    "        'S.cerevisiae314': {\n",
    "            'kmer_text_1': {\n",
    "                'all': pd.read_csv(\n",
    "                    'https://firebasestorage.googleapis.com/v0/b/fir-83e23.appspot.com/o/S.cerevisiae314%2Fkmer_text_1%2Fall.csv?alt=media&token=83777d36-03bc-46c1-abd2-5f10d1e82536'),\n",
    "                'test': pd.read_csv(\n",
    "                    'https://firebasestorage.googleapis.com/v0/b/fir-83e23.appspot.com/o/S.cerevisiae314%2Fkmer_text_1%2Ftest.csv?alt=media&token=809d782c-72dc-4bae-8358-37c14817879d'),\n",
    "                'train': pd.read_csv(\n",
    "                    'https://firebasestorage.googleapis.com/v0/b/fir-83e23.appspot.com/o/S.cerevisiae314%2Fkmer_text_1%2Ftrain.csv?alt=media&token=41113690-f51a-48d7-a802-dc9bfecff5e6'),\n",
    "                'valid': pd.read_csv(\n",
    "                    'https://firebasestorage.googleapis.com/v0/b/fir-83e23.appspot.com/o/S.cerevisiae314%2Fkmer_text_1%2Fvalid.csv?alt=media&token=3a817a32-16d2-4c8f-8caf-4fc37a2e25ad')\n",
    "            },\n",
    "        }\n",
    "    }\n",
    "else:\n",
    "    DATA_DIR = Path('../data/processed')\n",
    "\n",
    "    DATA = {\n",
    "        'H.sapiens100': {\n",
    "            'kmer_text_1': {\n",
    "                'test': pd.read_csv(DATA_DIR / 'H.sapiens100' / 'kmer_text_1' / 'test.csv'),\n",
    "                'train': pd.read_csv(DATA_DIR / 'H.sapiens100' / 'kmer_text_1' / 'train.csv'),\n",
    "                'valid': pd.read_csv(DATA_DIR / 'H.sapiens100' / 'kmer_text_1' / 'valid.csv')\n",
    "            },\n",
    "        },\n",
    "        'H.sapiens495': {\n",
    "            'kmer_text_1': {\n",
    "                'all': pd.read_csv(DATA_DIR / 'H.sapiens495' / 'kmer_text_1' / 'all.csv'),\n",
    "                'test': pd.read_csv(DATA_DIR / 'H.sapiens495' / 'kmer_text_1' / 'test.csv'),\n",
    "                'train': pd.read_csv(DATA_DIR / 'H.sapiens495' / 'kmer_text_1' / 'train.csv'),\n",
    "                'valid': pd.read_csv(DATA_DIR / 'H.sapiens495' / 'kmer_text_1' / 'valid.csv')\n",
    "            },\n",
    "        },\n",
    "        'M.musculus472': {\n",
    "            'kmer_text_1': {\n",
    "                'all': pd.read_csv(DATA_DIR / 'M.musculus472' / 'kmer_text_1' / 'all.csv'),\n",
    "                'test': pd.read_csv(DATA_DIR / 'M.musculus472' / 'kmer_text_1' / 'test.csv'),\n",
    "                'train': pd.read_csv(DATA_DIR / 'M.musculus472' / 'kmer_text_1' / 'train.csv'),\n",
    "                'valid': pd.read_csv(DATA_DIR / 'M.musculus472' / 'kmer_text_1' / 'valid.csv')\n",
    "            },\n",
    "        },\n",
    "        'S.cerevisiae100': {\n",
    "            'kmer_text_1': {\n",
    "                'test': pd.read_csv(DATA_DIR / 'S.cerevisiae100' / 'kmer_text_1' / 'all.csv'),\n",
    "                'train': pd.read_csv(DATA_DIR / 'S.cerevisiae100' / 'kmer_text_1' / 'train.csv'),\n",
    "                'valid': pd.read_csv(DATA_DIR / 'S.cerevisiae100' / 'kmer_text_1' / 'valid.csv')\n",
    "            },\n",
    "        },\n",
    "        'S.cerevisiae314': {\n",
    "            'kmer_text_1': {\n",
    "                'all': pd.read_csv(DATA_DIR / 'S.cerevisiae314' / 'kmer_text_1' / 'all.csv'),\n",
    "                'test': pd.read_csv(DATA_DIR / 'S.cerevisiae314' / 'kmer_text_1' / 'test.csv'),\n",
    "                'train': pd.read_csv(DATA_DIR / 'S.cerevisiae314' / 'kmer_text_1' / 'train.csv'),\n",
    "                'valid': pd.read_csv(DATA_DIR / 'S.cerevisiae314' / 'kmer_text_1' / 'valid.csv')\n",
    "            },\n",
    "        }\n",
    "    }\n"
   ]
  },
  {
   "cell_type": "code",
   "execution_count": 3,
   "outputs": [],
   "source": [
    "HUMAN_100 = DATA['H.sapiens100']['kmer_text_1']\n",
    "HUMAN_495 = DATA['H.sapiens495']['kmer_text_1']\n",
    "MOUSE_472 = DATA['M.musculus472']['kmer_text_1']\n",
    "YEAST_100 = DATA['S.cerevisiae100']['kmer_text_1']\n",
    "YEAST_314 = DATA['S.cerevisiae314']['kmer_text_1']"
   ],
   "metadata": {
    "collapsed": false
   }
  },
  {
   "cell_type": "code",
   "execution_count": 4,
   "outputs": [],
   "source": [
    "RANDOM_SEED = 0\n",
    "\n",
    "random.seed = RANDOM_SEED\n",
    "np.random.seed(RANDOM_SEED)\n",
    "tf.random.set_seed(RANDOM_SEED)\n",
    "\n",
    "# VOCAB_SIZE is based on number of nucleotides i.e. ACGU (4)\n",
    "VOCAB_SIZE = 4\n",
    "BATCH_SIZE = 64"
   ],
   "metadata": {
    "collapsed": false
   }
  },
  {
   "cell_type": "code",
   "execution_count": 38,
   "outputs": [],
   "source": [
    "def prepare_data(data):\n",
    "    y = data['label']\n",
    "    x = data.drop('label', axis=1).apply(' '.join, axis=1)\n",
    "\n",
    "    return x.values, y.values\n",
    "\n",
    "\n",
    "def create_rnn_lstm_model(data):\n",
    "    encoder = tf.keras.layers.TextVectorization(max_tokens=VOCAB_SIZE)\n",
    "    encoder.adapt(data)\n",
    "\n",
    "    model = tf.keras.Sequential([\n",
    "        encoder,\n",
    "        tf.keras.layers.Embedding(\n",
    "            input_dim=VOCAB_SIZE,\n",
    "            output_dim=64,\n",
    "            mask_zero=False,\n",
    "        ),\n",
    "        tf.keras.layers.Bidirectional(tf.keras.layers.LSTM(64)),\n",
    "        tf.keras.layers.Dense(64, activation='relu'),\n",
    "        tf.keras.layers.Dense(1, activation='sigmoid')\n",
    "    ])\n",
    "\n",
    "    model.compile(\n",
    "        loss=tf.keras.losses.MSE,\n",
    "        optimizer='adam',\n",
    "        metrics=['accuracy', keras.metrics.Recall(), keras.metrics.Precision()]\n",
    "    )\n",
    "\n",
    "    return model\n",
    "\n",
    "\n",
    "def train_model(model, train_set, valid_set, epochs, reset=True):\n",
    "    if reset:\n",
    "        model.reset_states()\n",
    "    model.fit(train_set[0], train_set[1], epochs=epochs, validation_data=valid_set)\n",
    "\n",
    "\n",
    "def calculate_scores(model, test_set):\n",
    "    return model.evaluate(test_set[0], test_set[1])"
   ],
   "metadata": {
    "collapsed": false
   }
  },
  {
   "cell_type": "code",
   "execution_count": 32,
   "outputs": [],
   "source": [
    "# SET DATASET BEING USED\n",
    "DATASET = YEAST_314"
   ],
   "metadata": {
    "collapsed": false
   }
  },
  {
   "cell_type": "code",
   "execution_count": 33,
   "outputs": [],
   "source": [
    "x_train, y_train = prepare_data(DATASET['train'])\n",
    "x_valid, y_valid = prepare_data(DATASET['valid'])\n",
    "x_test, y_test = prepare_data(DATASET['test'])"
   ],
   "metadata": {
    "collapsed": false
   }
  },
  {
   "cell_type": "code",
   "execution_count": 34,
   "outputs": [],
   "source": [
    "rnn_model = create_rnn_lstm_model(x_train)"
   ],
   "metadata": {
    "collapsed": false
   }
  },
  {
   "cell_type": "code",
   "execution_count": 35,
   "outputs": [
    {
     "name": "stdout",
     "output_type": "stream",
     "text": [
      "Epoch 1/40\n",
      "15/15 [==============================] - 5s 80ms/step - loss: 0.2500 - accuracy: 0.5166 - recall: 0.9915 - precision: 0.5179 - val_loss: 0.2515 - val_accuracy: 0.4762 - val_recall: 1.0000 - val_precision: 0.4762\n",
      "Epoch 2/40\n",
      "15/15 [==============================] - 0s 32ms/step - loss: 0.2496 - accuracy: 0.5255 - recall: 1.0000 - precision: 0.5223 - val_loss: 0.2515 - val_accuracy: 0.4762 - val_recall: 1.0000 - val_precision: 0.4762\n",
      "Epoch 3/40\n",
      "15/15 [==============================] - 0s 30ms/step - loss: 0.2486 - accuracy: 0.5188 - recall: 1.0000 - precision: 0.5188 - val_loss: 0.2541 - val_accuracy: 0.4762 - val_recall: 1.0000 - val_precision: 0.4762\n",
      "Epoch 4/40\n",
      "15/15 [==============================] - 0s 29ms/step - loss: 0.2489 - accuracy: 0.5188 - recall: 1.0000 - precision: 0.5188 - val_loss: 0.2522 - val_accuracy: 0.5000 - val_recall: 0.9833 - val_precision: 0.4876\n",
      "Epoch 5/40\n",
      "15/15 [==============================] - 0s 29ms/step - loss: 0.2487 - accuracy: 0.5477 - recall: 0.5812 - precision: 0.5620 - val_loss: 0.2497 - val_accuracy: 0.4921 - val_recall: 0.4167 - val_precision: 0.4630\n",
      "Epoch 6/40\n",
      "15/15 [==============================] - 0s 30ms/step - loss: 0.2481 - accuracy: 0.5299 - recall: 0.7265 - precision: 0.5346 - val_loss: 0.2513 - val_accuracy: 0.5238 - val_recall: 0.8833 - val_precision: 0.5000\n",
      "Epoch 7/40\n",
      "15/15 [==============================] - 0s 30ms/step - loss: 0.2477 - accuracy: 0.5432 - recall: 0.9402 - precision: 0.5340 - val_loss: 0.2541 - val_accuracy: 0.4921 - val_recall: 0.9167 - val_precision: 0.4825\n",
      "Epoch 8/40\n",
      "15/15 [==============================] - 0s 30ms/step - loss: 0.2471 - accuracy: 0.5432 - recall: 0.9402 - precision: 0.5340 - val_loss: 0.2532 - val_accuracy: 0.4762 - val_recall: 0.8000 - val_precision: 0.4706\n",
      "Epoch 9/40\n",
      "15/15 [==============================] - 0s 29ms/step - loss: 0.2464 - accuracy: 0.5499 - recall: 0.7521 - precision: 0.5483 - val_loss: 0.2521 - val_accuracy: 0.4762 - val_recall: 0.7000 - val_precision: 0.4667\n",
      "Epoch 10/40\n",
      "15/15 [==============================] - 0s 32ms/step - loss: 0.2466 - accuracy: 0.5565 - recall: 0.8419 - precision: 0.5472 - val_loss: 0.2548 - val_accuracy: 0.4762 - val_recall: 0.6833 - val_precision: 0.4659\n",
      "Epoch 11/40\n",
      "15/15 [==============================] - 1s 38ms/step - loss: 0.2449 - accuracy: 0.5388 - recall: 0.5726 - precision: 0.5537 - val_loss: 0.2506 - val_accuracy: 0.4921 - val_recall: 0.6000 - val_precision: 0.4737\n",
      "Epoch 12/40\n",
      "15/15 [==============================] - 1s 36ms/step - loss: 0.2454 - accuracy: 0.5499 - recall: 0.7906 - precision: 0.5457 - val_loss: 0.2525 - val_accuracy: 0.4841 - val_recall: 0.8000 - val_precision: 0.4752\n",
      "Epoch 13/40\n",
      "15/15 [==============================] - 0s 32ms/step - loss: 0.2444 - accuracy: 0.5721 - recall: 0.7949 - precision: 0.5619 - val_loss: 0.2492 - val_accuracy: 0.5079 - val_recall: 0.5833 - val_precision: 0.4861\n",
      "Epoch 14/40\n",
      "15/15 [==============================] - 0s 32ms/step - loss: 0.2448 - accuracy: 0.5565 - recall: 0.5812 - precision: 0.5714 - val_loss: 0.2506 - val_accuracy: 0.5159 - val_recall: 0.7000 - val_precision: 0.4941\n",
      "Epoch 15/40\n",
      "15/15 [==============================] - 0s 33ms/step - loss: 0.2414 - accuracy: 0.5787 - recall: 0.7650 - precision: 0.5701 - val_loss: 0.2554 - val_accuracy: 0.5079 - val_recall: 0.6167 - val_precision: 0.4868\n",
      "Epoch 16/40\n",
      "15/15 [==============================] - 0s 33ms/step - loss: 0.2412 - accuracy: 0.5898 - recall: 0.6752 - precision: 0.5918 - val_loss: 0.2566 - val_accuracy: 0.4841 - val_recall: 0.6000 - val_precision: 0.4675\n",
      "Epoch 17/40\n",
      "15/15 [==============================] - 0s 31ms/step - loss: 0.2386 - accuracy: 0.5854 - recall: 0.7906 - precision: 0.5728 - val_loss: 0.2642 - val_accuracy: 0.5159 - val_recall: 0.5667 - val_precision: 0.4928\n",
      "Epoch 18/40\n",
      "15/15 [==============================] - 0s 32ms/step - loss: 0.2377 - accuracy: 0.5743 - recall: 0.6838 - precision: 0.5755 - val_loss: 0.2532 - val_accuracy: 0.4921 - val_recall: 0.6167 - val_precision: 0.4744\n",
      "Epoch 19/40\n",
      "15/15 [==============================] - 0s 32ms/step - loss: 0.2295 - accuracy: 0.5965 - recall: 0.7650 - precision: 0.5850 - val_loss: 0.2592 - val_accuracy: 0.5159 - val_recall: 0.5833 - val_precision: 0.4930\n",
      "Epoch 20/40\n",
      "15/15 [==============================] - 0s 33ms/step - loss: 0.2310 - accuracy: 0.5854 - recall: 0.7179 - precision: 0.5813 - val_loss: 0.2566 - val_accuracy: 0.5317 - val_recall: 0.7500 - val_precision: 0.5056\n",
      "Epoch 21/40\n",
      "15/15 [==============================] - 0s 31ms/step - loss: 0.2349 - accuracy: 0.5920 - recall: 0.8248 - precision: 0.5744 - val_loss: 0.2453 - val_accuracy: 0.5079 - val_recall: 0.5167 - val_precision: 0.4844\n",
      "Epoch 22/40\n",
      "15/15 [==============================] - 0s 31ms/step - loss: 0.2297 - accuracy: 0.6098 - recall: 0.6026 - precision: 0.6295 - val_loss: 0.2553 - val_accuracy: 0.5000 - val_recall: 0.6000 - val_precision: 0.4800\n",
      "Epoch 23/40\n",
      "15/15 [==============================] - 0s 29ms/step - loss: 0.2264 - accuracy: 0.6208 - recall: 0.8248 - precision: 0.5975 - val_loss: 0.2502 - val_accuracy: 0.5476 - val_recall: 0.6833 - val_precision: 0.5190\n",
      "Epoch 24/40\n",
      "15/15 [==============================] - 0s 27ms/step - loss: 0.2224 - accuracy: 0.6275 - recall: 0.8547 - precision: 0.5988 - val_loss: 0.2582 - val_accuracy: 0.5159 - val_recall: 0.6500 - val_precision: 0.4937\n",
      "Epoch 25/40\n",
      "15/15 [==============================] - 0s 32ms/step - loss: 0.2205 - accuracy: 0.6297 - recall: 0.8248 - precision: 0.6050 - val_loss: 0.2542 - val_accuracy: 0.5794 - val_recall: 0.6667 - val_precision: 0.5479\n",
      "Epoch 26/40\n",
      "15/15 [==============================] - 0s 34ms/step - loss: 0.2142 - accuracy: 0.6563 - recall: 0.8547 - precision: 0.6231 - val_loss: 0.2604 - val_accuracy: 0.5238 - val_recall: 0.5833 - val_precision: 0.5000\n",
      "Epoch 27/40\n",
      "15/15 [==============================] - 0s 34ms/step - loss: 0.2093 - accuracy: 0.6674 - recall: 0.8077 - precision: 0.6429 - val_loss: 0.2540 - val_accuracy: 0.5635 - val_recall: 0.6833 - val_precision: 0.5325\n",
      "Epoch 28/40\n",
      "15/15 [==============================] - 0s 34ms/step - loss: 0.2064 - accuracy: 0.6851 - recall: 0.8205 - precision: 0.6575 - val_loss: 0.2571 - val_accuracy: 0.5794 - val_recall: 0.6167 - val_precision: 0.5522\n",
      "Epoch 29/40\n",
      "15/15 [==============================] - 0s 33ms/step - loss: 0.1991 - accuracy: 0.6940 - recall: 0.7735 - precision: 0.6805 - val_loss: 0.2516 - val_accuracy: 0.5873 - val_recall: 0.6833 - val_precision: 0.5541\n",
      "Epoch 30/40\n",
      "15/15 [==============================] - 0s 32ms/step - loss: 0.2053 - accuracy: 0.6807 - recall: 0.8590 - precision: 0.6442 - val_loss: 0.2634 - val_accuracy: 0.5476 - val_recall: 0.6333 - val_precision: 0.5205\n",
      "Epoch 31/40\n",
      "15/15 [==============================] - 0s 33ms/step - loss: 0.1990 - accuracy: 0.6918 - recall: 0.8376 - precision: 0.6599 - val_loss: 0.2553 - val_accuracy: 0.5556 - val_recall: 0.6500 - val_precision: 0.5270\n",
      "Epoch 32/40\n",
      "15/15 [==============================] - 0s 33ms/step - loss: 0.2026 - accuracy: 0.6896 - recall: 0.8248 - precision: 0.6610 - val_loss: 0.2592 - val_accuracy: 0.5635 - val_recall: 0.5167 - val_precision: 0.5439\n",
      "Epoch 33/40\n",
      "15/15 [==============================] - 1s 35ms/step - loss: 0.1953 - accuracy: 0.6962 - recall: 0.7308 - precision: 0.6980 - val_loss: 0.2545 - val_accuracy: 0.6032 - val_recall: 0.6167 - val_precision: 0.5781\n",
      "Epoch 34/40\n",
      "15/15 [==============================] - 1s 36ms/step - loss: 0.1894 - accuracy: 0.7095 - recall: 0.8291 - precision: 0.6807 - val_loss: 0.2661 - val_accuracy: 0.5476 - val_recall: 0.5667 - val_precision: 0.5231\n",
      "Epoch 35/40\n",
      "15/15 [==============================] - 1s 37ms/step - loss: 0.1873 - accuracy: 0.7140 - recall: 0.8205 - precision: 0.6882 - val_loss: 0.2738 - val_accuracy: 0.5476 - val_recall: 0.6333 - val_precision: 0.5205\n",
      "Epoch 36/40\n",
      "15/15 [==============================] - 1s 36ms/step - loss: 0.1883 - accuracy: 0.7184 - recall: 0.8248 - precision: 0.6918 - val_loss: 0.2765 - val_accuracy: 0.5635 - val_recall: 0.6167 - val_precision: 0.5362\n",
      "Epoch 37/40\n",
      "15/15 [==============================] - 1s 37ms/step - loss: 0.1787 - accuracy: 0.7384 - recall: 0.8718 - precision: 0.6986 - val_loss: 0.2738 - val_accuracy: 0.5238 - val_recall: 0.5667 - val_precision: 0.5000\n",
      "Epoch 38/40\n",
      "15/15 [==============================] - 1s 39ms/step - loss: 0.1751 - accuracy: 0.7450 - recall: 0.8333 - precision: 0.7196 - val_loss: 0.2876 - val_accuracy: 0.5317 - val_recall: 0.6000 - val_precision: 0.5070\n",
      "Epoch 39/40\n",
      "15/15 [==============================] - 1s 46ms/step - loss: 0.1753 - accuracy: 0.7450 - recall: 0.8974 - precision: 0.6977 - val_loss: 0.2813 - val_accuracy: 0.5317 - val_recall: 0.5667 - val_precision: 0.5075\n",
      "Epoch 40/40\n",
      "15/15 [==============================] - 1s 37ms/step - loss: 0.1587 - accuracy: 0.7960 - recall: 0.8675 - precision: 0.7689 - val_loss: 0.2842 - val_accuracy: 0.5476 - val_recall: 0.5167 - val_precision: 0.5254\n"
     ]
    }
   ],
   "source": [
    "train_model(rnn_model, (x_train, y_train), (x_test, y_test), epochs=40, reset=False)"
   ],
   "metadata": {
    "collapsed": false
   }
  },
  {
   "cell_type": "code",
   "execution_count": 39,
   "outputs": [
    {
     "name": "stdout",
     "output_type": "stream",
     "text": [
      "4/4 [==============================] - 0s 13ms/step - loss: 0.2842 - accuracy: 0.5476 - recall: 0.5167 - precision: 0.5254\n"
     ]
    },
    {
     "data": {
      "text/plain": "[0.28416064381599426,\n 0.5476190447807312,\n 0.5166666507720947,\n 0.5254237055778503]"
     },
     "execution_count": 39,
     "metadata": {},
     "output_type": "execute_result"
    }
   ],
   "source": [
    "calculate_scores(rnn_model, (x_test, y_test))"
   ],
   "metadata": {
    "collapsed": false
   }
  },
  {
   "cell_type": "code",
   "execution_count": null,
   "outputs": [],
   "source": [],
   "metadata": {
    "collapsed": false
   }
  }
 ],
 "metadata": {
  "kernelspec": {
   "display_name": "Python 3",
   "language": "python",
   "name": "python3"
  },
  "language_info": {
   "codemirror_mode": {
    "name": "ipython",
    "version": 2
   },
   "file_extension": ".py",
   "mimetype": "text/x-python",
   "name": "python",
   "nbconvert_exporter": "python",
   "pygments_lexer": "ipython2",
   "version": "2.7.6"
  }
 },
 "nbformat": 4,
 "nbformat_minor": 0
}
