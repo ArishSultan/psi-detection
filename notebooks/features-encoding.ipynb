{
 "cells": [
  {
   "cell_type": "markdown",
   "source": [
    "### Nucleotide Chemical Property `NCP`\n",
    "\n",
    "\\begin{equation}\n",
    "  x_i =\n",
    "    \\begin{cases}\n",
    "      1 & \\text{if $N_i \\in \\{A, G\\} $ }\\\\\n",
    "      0 & \\text{if $N_i \\in \\{C, U\\} $ }\\\\\n",
    "    \\end{cases}\n",
    "\\end{equation}\n",
    "\n",
    "\\begin{equation}\n",
    "  y_i =\n",
    "    \\begin{cases}\n",
    "      1 & \\text{if $N_i \\in \\{A, C\\} $ }\\\\\n",
    "      0 & \\text{if $N_i \\in \\{G, U\\} $ }\\\\\n",
    "    \\end{cases}\n",
    "\\end{equation}\n",
    "\n",
    "\\begin{equation}\n",
    "  z_i =\n",
    "    \\begin{cases}\n",
    "      1 & \\text{if $N_i \\in \\{A, U\\} $ }\\\\\n",
    "      0 & \\text{if $N_i \\in \\{C, G\\} $ }\\\\\n",
    "    \\end{cases}\n",
    "\\end{equation}"
   ],
   "metadata": {
    "collapsed": false
   }
  },
  {
   "cell_type": "code",
   "execution_count": 33,
   "outputs": [],
   "source": [
    "def ncp(sequence):\n",
    "    for n in sequence:\n",
    "        x = 1 if n == 'A' or n == 'G' else 0\n",
    "        y = 1 if n == 'A' or n == 'C' else 0\n",
    "        z = 1 if n == 'A' or n == 'U' else 0\n",
    "\n",
    "        yield [x, y, z]"
   ],
   "metadata": {
    "collapsed": false
   }
  },
  {
   "cell_type": "code",
   "execution_count": 34,
   "outputs": [
    {
     "data": {
      "text/plain": "[[1, 1, 1], [0, 1, 0], [1, 0, 0], [0, 0, 1]]"
     },
     "execution_count": 34,
     "metadata": {},
     "output_type": "execute_result"
    }
   ],
   "source": [
    "list(ncp('ACGU'))  # should be equal to [[1, 1, 1], [0, 1, 0], [1, 0, 0], [0, 0, 1]]"
   ],
   "metadata": {
    "collapsed": false
   }
  },
  {
   "cell_type": "markdown",
   "source": [
    "### Nucleotide Density `ND`\n",
    "\n",
    "**ND** incorporates the local occurrence frequency of a nucleotide and its distribution in **RNA**, it can be formulated as,\n",
    "\\begin{equation}\n",
    "    d_i = \\frac{1}{N_i} \\sum_{j = 1}^{l} f(n_j),\n",
    "    \\phantom{123}\n",
    "    f(n_j) = \\begin{cases}\n",
    "        1 & \\text{if $N_j = q$ where $q \\in \\{A, C, U, G\\}$}\\\\\n",
    "        0 & \\text{if otherwise}\n",
    "    \\end{cases}\n",
    "\\end{equation}"
   ],
   "metadata": {
    "collapsed": false
   }
  },
  {
   "cell_type": "code",
   "execution_count": 10,
   "outputs": [],
   "source": [
    "def nd(sequence):\n",
    "    count = {'A': 0, 'C': 0, 'U': 0, 'G': 0}\n",
    "    for index, n in enumerate(sequence):\n",
    "        new_val = count[n] + 1\n",
    "        count[n] = new_val\n",
    "\n",
    "        yield new_val / (index + 1)"
   ],
   "metadata": {
    "collapsed": false
   }
  },
  {
   "cell_type": "code",
   "execution_count": 30,
   "outputs": [
    {
     "name": "stdout",
     "output_type": "stream",
     "text": [
      "A 1.0\n",
      "G 0.5\n",
      "C 0.3333333333333333\n",
      "G 0.5\n",
      "U 0.2\n",
      "A 0.3333333333333333\n",
      "A 0.42857142857142855\n",
      "C 0.25\n"
     ]
    },
    {
     "data": {
      "text/plain": "[1.0,\n 0.5,\n 0.3333333333333333,\n 0.5,\n 0.2,\n 0.3333333333333333,\n 0.42857142857142855,\n 0.25]"
     },
     "execution_count": 30,
     "metadata": {},
     "output_type": "execute_result"
    }
   ],
   "source": [
    "seq = 'AGCGUAAC'\n",
    "density = nd(seq)\n",
    "for item in seq:\n",
    "    print(item, next(density))\n",
    "list(nd('AGCGUAAC'))"
   ],
   "metadata": {
    "collapsed": false
   }
  },
  {
   "cell_type": "markdown",
   "source": [
    "### Pseudo nucleotide composition `PseKNC`\n",
    "\n",
    "By combining both **NCP** and **ND** we have **PseKNC** which is given as,\n",
    "$$\n",
    "N_i = (x_i, y_i, z_i, d_i)\n",
    "$$"
   ],
   "metadata": {
    "collapsed": false
   }
  },
  {
   "cell_type": "code",
   "execution_count": 26,
   "outputs": [],
   "source": [
    "def pse_knc(sequence):\n",
    "    _nd = nd(sequence)\n",
    "    _ncp = ncp(sequence)\n",
    "\n",
    "    for i in _ncp:\n",
    "        i.append(next(_nd))\n",
    "        yield i"
   ],
   "metadata": {
    "collapsed": false
   }
  },
  {
   "cell_type": "code",
   "execution_count": 27,
   "outputs": [
    {
     "data": {
      "text/plain": "[[1, 1, 1, 1.0],\n [1, 0, 0, 0.5],\n [0, 1, 0, 0.3333333333333333],\n [1, 0, 0, 0.5],\n [0, 0, 1, 0.2],\n [1, 1, 1, 0.3333333333333333],\n [1, 1, 1, 0.42857142857142855],\n [0, 1, 0, 0.25]]"
     },
     "execution_count": 27,
     "metadata": {},
     "output_type": "execute_result"
    }
   ],
   "source": [
    "list(pse_knc('AGCGUAAC'))"
   ],
   "metadata": {
    "collapsed": false
   }
  },
  {
   "cell_type": "code",
   "execution_count": 31,
   "outputs": [],
   "source": [
    "def ncp(seq):\n",
    "    seq_length = len(seq)\n",
    "    ncp_lsit = [None] * seq_length * 3\n",
    "    for j in range(seq_length):\n",
    "        if seq[j] == 'A':\n",
    "            ncp_lsit[j * 3] = 1\n",
    "            ncp_lsit[j * 3 + 1] = 1\n",
    "            ncp_lsit[j * 3 + 2] = 1\n",
    "        elif seq[j] == 'U':\n",
    "            ncp_lsit[j * 3] = 0\n",
    "            ncp_lsit[j * 3 + 1] = 0\n",
    "            ncp_lsit[j * 3 + 2] = 1\n",
    "        elif seq[j] == 'C':\n",
    "            ncp_lsit[j * 3] = 0\n",
    "            ncp_lsit[j * 3 + 1] = 1\n",
    "            ncp_lsit[j * 3 + 2] = 0\n",
    "        elif seq[j] == 'G':\n",
    "            ncp_lsit[j * 3] = 1\n",
    "            ncp_lsit[j * 3 + 1] = 0\n",
    "            ncp_lsit[j * 3 + 2] = 0\n",
    "    return ncp_lsit"
   ],
   "metadata": {
    "collapsed": false
   }
  },
  {
   "cell_type": "code",
   "execution_count": 32,
   "outputs": [
    {
     "data": {
      "text/plain": "[1, 1, 1, 1, 0, 0, 0, 1, 0, 1, 0, 0, 0, 0, 1, 1, 1, 1, 1, 1, 1, 0, 1, 0]"
     },
     "execution_count": 32,
     "metadata": {},
     "output_type": "execute_result"
    }
   ],
   "source": [
    "ncp('AGCGUAAC')"
   ],
   "metadata": {
    "collapsed": false
   }
  },
  {
   "cell_type": "code",
   "execution_count": null,
   "outputs": [],
   "source": [],
   "metadata": {
    "collapsed": false
   }
  }
 ],
 "metadata": {
  "kernelspec": {
   "display_name": "Python 3",
   "language": "python",
   "name": "python3"
  },
  "language_info": {
   "codemirror_mode": {
    "name": "ipython",
    "version": 2
   },
   "file_extension": ".py",
   "mimetype": "text/x-python",
   "name": "python",
   "nbconvert_exporter": "python",
   "pygments_lexer": "ipython2",
   "version": "2.7.6"
  }
 },
 "nbformat": 4,
 "nbformat_minor": 0
}
